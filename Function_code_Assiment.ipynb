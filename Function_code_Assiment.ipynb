{
 "cells": [
  {
   "cell_type": "code",
   "execution_count": 2,
   "id": "e146a3e0-032f-445d-ba01-210179b7b485",
   "metadata": {},
   "outputs": [
    {
     "name": "stdout",
     "output_type": "stream",
     "text": [
      "Sum of even numbers: 12\n"
     ]
    }
   ],
   "source": [
    "#1.\tWrite a Python function that takes a list of numbers as input and returns the list. sum of all even numbers in the list .\n",
    "\n",
    "def sum_of_evens(numbers):\n",
    "    # Using list comprehension to filter even numbers and sum them\n",
    "    return sum(num for num in numbers if num % 2 == 0)\n",
    "\n",
    "# Example usage\n",
    "numbers = [1, 2, 3, 4, 5, 6]\n",
    "result = sum_of_evens(numbers)\n",
    "print(\"Sum of even numbers:\", result)"
   ]
  },
  {
   "cell_type": "code",
   "execution_count": 3,
   "id": "65fc9311-573d-4fba-8c1b-551e2db39d1b",
   "metadata": {},
   "outputs": [
    {
     "name": "stdout",
     "output_type": "stream",
     "text": [
      "Reversed string: olleh\n"
     ]
    }
   ],
   "source": [
    "#2.\tCreate a Python function that accepts a string and returns the reverse of that string.\n",
    "def reverse_string(s):\n",
    "    # Slicing the string to reverse it\n",
    "    return s[::-1]\n",
    "\n",
    "# Example usage\n",
    "string = \"hello\"\n",
    "result = reverse_string(string)\n",
    "print(\"Reversed string:\", result)\n"
   ]
  },
  {
   "cell_type": "code",
   "execution_count": 4,
   "id": "3aefff4f-d4cd-47b3-b8d2-7ed0658aec54",
   "metadata": {},
   "outputs": [
    {
     "name": "stdout",
     "output_type": "stream",
     "text": [
      "Squares of the numbers: [1, 4, 9, 16, 25]\n"
     ]
    }
   ],
   "source": [
    "#3.\tImplement a Python function that takes a list of integers and returns a new et containing the squares of each number.\n",
    "def square_numbers(numbers):\n",
    "    # Using list comprehension to generate squares of each number\n",
    "    return [num ** 2 for num in numbers]\n",
    "\n",
    "# Example usage\n",
    "numbers = [1, 2, 3, 4, 5]\n",
    "result = square_numbers(numbers)\n",
    "print(\"Squares of the numbers:\", result)\n"
   ]
  },
  {
   "cell_type": "code",
   "execution_count": 5,
   "id": "7efd8f3e-5003-49ca-a29c-3cee4a1973ed",
   "metadata": {},
   "outputs": [
    {
     "name": "stdout",
     "output_type": "stream",
     "text": [
      "2 is a prime number.\n",
      "3 is a prime number.\n",
      "5 is a prime number.\n",
      "7 is a prime number.\n",
      "11 is a prime number.\n",
      "13 is a prime number.\n",
      "17 is a prime number.\n",
      "19 is a prime number.\n",
      "23 is a prime number.\n",
      "29 is a prime number.\n",
      "31 is a prime number.\n",
      "37 is a prime number.\n",
      "41 is a prime number.\n",
      "43 is a prime number.\n",
      "47 is a prime number.\n",
      "53 is a prime number.\n",
      "59 is a prime number.\n",
      "61 is a prime number.\n",
      "67 is a prime number.\n",
      "71 is a prime number.\n",
      "73 is a prime number.\n",
      "79 is a prime number.\n",
      "83 is a prime number.\n",
      "89 is a prime number.\n",
      "97 is a prime number.\n",
      "101 is a prime number.\n",
      "103 is a prime number.\n",
      "107 is a prime number.\n",
      "109 is a prime number.\n",
      "113 is a prime number.\n",
      "127 is a prime number.\n",
      "131 is a prime number.\n",
      "137 is a prime number.\n",
      "139 is a prime number.\n",
      "149 is a prime number.\n",
      "151 is a prime number.\n",
      "157 is a prime number.\n",
      "163 is a prime number.\n",
      "167 is a prime number.\n",
      "173 is a prime number.\n",
      "179 is a prime number.\n",
      "181 is a prime number.\n",
      "191 is a prime number.\n",
      "193 is a prime number.\n",
      "197 is a prime number.\n",
      "199 is a prime number.\n"
     ]
    }
   ],
   "source": [
    "#4.\tWrite a Python function that checks if a given number is prime or not from 1 to 200.\n",
    "def is_prime(n):\n",
    "    # A number less than 2 is not prime\n",
    "    if n < 2:\n",
    "        return False\n",
    "    # Check divisibility from 2 to sqrt(n)\n",
    "    for i in range(2, int(n ** 0.5) + 1):\n",
    "        if n % i == 0:\n",
    "            return False\n",
    "    return True\n",
    "\n",
    "# Example usage: check prime numbers from 1 to 200\n",
    "for num in range(1, 201):\n",
    "    if is_prime(num):\n",
    "        print(f\"{num} is a prime number.\")\n"
   ]
  },
  {
   "cell_type": "code",
   "execution_count": 6,
   "id": "ef775eac-e10f-489e-97b0-2b9212641a7e",
   "metadata": {},
   "outputs": [
    {
     "name": "stdout",
     "output_type": "stream",
     "text": [
      "0\n",
      "1\n",
      "1\n",
      "2\n",
      "3\n",
      "5\n",
      "8\n",
      "13\n",
      "21\n",
      "34\n"
     ]
    }
   ],
   "source": [
    "#5.\tCreate on iterator class in python that generates the Fibonacci sequence up to a specified number of terms.\n",
    "class FibonacciIterator:\n",
    "    def __init__(self, num_terms):\n",
    "        self.num_terms = num_terms  # Total number of terms to generate\n",
    "        self.current_term = 0       # Track the current term number\n",
    "        self.a, self.b = 0, 1       # Starting values for Fibonacci sequence\n",
    "\n",
    "    def __iter__(self):\n",
    "        return self\n",
    "\n",
    "    def __next__(self):\n",
    "        if self.current_term >= self.num_terms:\n",
    "            raise StopIteration  # End the iteration when terms are exhausted\n",
    "        # Generate the next Fibonacci number\n",
    "        if self.current_term == 0:\n",
    "            self.current_term += 1\n",
    "            return self.a\n",
    "        elif self.current_term == 1:\n",
    "            self.current_term += 1\n",
    "            return self.b\n",
    "        else:\n",
    "            next_fib = self.a + self.b\n",
    "            self.a, self.b = self.b, next_fib\n",
    "            self.current_term += 1\n",
    "            return next_fib\n",
    "\n",
    "# Example usage: generate the first 10 Fibonacci numbers\n",
    "fib_iter = FibonacciIterator(10)\n",
    "for num in fib_iter:\n",
    "    print(num)\n"
   ]
  },
  {
   "cell_type": "code",
   "execution_count": 12,
   "id": "9687056f-349c-42e9-8043-fc08a6c52d8f",
   "metadata": {},
   "outputs": [
    {
     "name": "stdout",
     "output_type": "stream",
     "text": [
      "1\n",
      "2\n",
      "4\n",
      "8\n",
      "16\n",
      "32\n"
     ]
    }
   ],
   "source": [
    "#6. Write  a generator function in Python that yields the powers of 2 up to a given exponent\n",
    "def powers_of_two(max_exponent):\n",
    "    for exp in range(max_exponent + 1):\n",
    "        yield 2 ** exp\n",
    "\n",
    "# Example usage: generate powers of 2 up to the exponent 5\n",
    "for power in powers_of_two(5):\n",
    "    print(power)\n"
   ]
  },
  {
   "cell_type": "code",
   "execution_count": null,
   "id": "335d79d7-0b46-45dd-812d-2689afba348e",
   "metadata": {},
   "outputs": [],
   "source": [
    "#7.Implement a generator function that reads fine by line line and yields each line as a string.\n",
    "def read_file_by_line(filename):\n",
    "    with open(filename, 'r') as file:\n",
    "        for line in file:\n",
    "            yield line.strip()  # Use .strip() to remove leading/trailing whitespace\n",
    "\n",
    "# Example usage: Reading a file line by line\n",
    "for line in read_file_by_line('example.txt'):\n",
    "    print(line)\n",
    "\n"
   ]
  },
  {
   "cell_type": "code",
   "execution_count": 13,
   "id": "afaa1457-6c90-42e3-9a32-f15de74ab135",
   "metadata": {},
   "outputs": [
    {
     "name": "stdout",
     "output_type": "stream",
     "text": [
      "Sorted list: [(5, 0), (4, 1), (2, 2), (1, 3)]\n"
     ]
    }
   ],
   "source": [
    "#8 Use a lambda function in Python to sort a list of tuples based on the second element of each tuple.\n",
    "# Sample list of tuples\n",
    "tuples_list = [(1, 3), (4, 1), (2, 2), (5, 0)]\n",
    "\n",
    "# Sorting using lambda function based on the second element of each tuple\n",
    "sorted_list = sorted(tuples_list, key=lambda x: x[1])\n",
    "\n",
    "# Example usage\n",
    "print(\"Sorted list:\", sorted_list)\n"
   ]
  },
  {
   "cell_type": "code",
   "execution_count": 14,
   "id": "66d5008d-0d5f-4caf-84e1-fdc4b77d1ce6",
   "metadata": {},
   "outputs": [
    {
     "name": "stdout",
     "output_type": "stream",
     "text": [
      "Temperatures in Fahrenheit: [32.0, 68.0, 98.6, 212.0]\n"
     ]
    }
   ],
   "source": [
    "#9 Write a Python program that uses map() to convert list of temperatures from Celsius to Fahrenheit.\n",
    "# Function to convert Celsius to Fahrenheit\n",
    "def celsius_to_fahrenheit(celsius):\n",
    "    return (celsius * 9/5) + 32\n",
    "\n",
    "# List of temperatures in Celsius\n",
    "celsius_temperatures = [0, 20, 37, 100]\n",
    "\n",
    "# Use map() to convert the list to Fahrenheit\n",
    "fahrenheit_temperatures = list(map(celsius_to_fahrenheit, celsius_temperatures))\n",
    "\n",
    "# Example usage\n",
    "print(\"Temperatures in Fahrenheit:\", fahrenheit_temperatures)\n"
   ]
  },
  {
   "cell_type": "code",
   "execution_count": 15,
   "id": "c3d47c49-84bd-48d4-8c3d-0436f663670d",
   "metadata": {},
   "outputs": [
    {
     "name": "stdout",
     "output_type": "stream",
     "text": [
      "String without vowels: Hll, Wrld!\n"
     ]
    }
   ],
   "source": [
    "#10. Create a Python program that uses filter() to remove all the vowels from a given string\n",
    "def remove_vowels(s):\n",
    "    vowels = 'aeiouAEIOU'\n",
    "    # Use filter() to keep only non-vowel characters\n",
    "    filtered_chars = filter(lambda char: char not in vowels, s)\n",
    "    # Join the filtered characters back into a string\n",
    "    return ''.join(filtered_chars)\n",
    "\n",
    "# Example usage\n",
    "input_string = \"Hello, World!\"\n",
    "result = remove_vowels(input_string)\n",
    "print(\"String without vowels:\", result)\n"
   ]
  },
  {
   "cell_type": "code",
   "execution_count": 17,
   "id": "ec48d570-7907-4bf0-8488-748ee25ef22a",
   "metadata": {},
   "outputs": [
    {
     "name": "stdout",
     "output_type": "stream",
     "text": [
      "[(34587, 163.8), (98762, 284.0), (77226, 108.85000000000001), (88112, 84.97)]\n"
     ]
    }
   ],
   "source": [
    "# 11) imagine an accounting routine used in bock shop. It works on a list with sublists, which lool like this:\n",
    "\n",
    "#Order\t\tBouk Title and Author\t\t\tQuantity\tPrice  per Item\n",
    "#34587\t\tLearning Python, Mark Lutz\t\t4\t\t40.95\n",
    "#98762\t\tProgramming Python, Mark Lutz\t5\t\t56.80\n",
    "#77226\t\tHead fist Python ,Paul Barry\t\t3\t\t32.95\t\n",
    "#88112\t\tEinfuhrung in python3 , Bernd Klein\t3\t\t24.99\n",
    "\n",
    "#Witte Pythan program, which return a list  with 2-tuples. Each tuple consists of the order number and the product of the price per item and the quantity. The product should be increased by 10 ,-€ if the value of the order  is smaller than 100,00 €\n",
    "#withe a Python program using lambids and map\n",
    "\n",
    "def calculate_total(order):\n",
    "    order_number, _, quantity, price_per_item = order\n",
    "    total_price = quantity * price_per_item\n",
    "    if total_price < 100:\n",
    "        total_price += 10\n",
    "    return (order_number, total_price)\n",
    "\n",
    "# Example data\n",
    "orders = [\n",
    "    [34587, \"Learning Python, Mark Lutz\", 4, 40.95],\n",
    "    [98762, \"Programming Python, Mark Lutz\", 5, 56.80],\n",
    "    [77226, \"Head First Python, Paul Barry\", 3, 32.95],\n",
    "    [88112, \"Einführung in Python3, Bernd Klein\", 3, 24.99]\n",
    "]\n",
    "\n",
    "# Use map() to apply the calculation to each order\n",
    "processed_orders = map(lambda order: calculate_total(order), orders)\n",
    "\n",
    "# Convert the map object to a list and print the result\n",
    "print(list(processed_orders))\n",
    "\n",
    "\n"
   ]
  },
  {
   "cell_type": "code",
   "execution_count": null,
   "id": "11cecb74-c4ac-4e7b-99f8-7a85431352b5",
   "metadata": {},
   "outputs": [],
   "source": []
  }
 ],
 "metadata": {
  "kernelspec": {
   "display_name": "Python 3 (ipykernel)",
   "language": "python",
   "name": "python3"
  },
  "language_info": {
   "codemirror_mode": {
    "name": "ipython",
    "version": 3
   },
   "file_extension": ".py",
   "mimetype": "text/x-python",
   "name": "python",
   "nbconvert_exporter": "python",
   "pygments_lexer": "ipython3",
   "version": "3.12.6"
  }
 },
 "nbformat": 4,
 "nbformat_minor": 5
}
